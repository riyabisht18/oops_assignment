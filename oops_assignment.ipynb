{
  "nbformat": 4,
  "nbformat_minor": 0,
  "metadata": {
    "colab": {
      "provenance": []
    },
    "kernelspec": {
      "name": "python3",
      "display_name": "Python 3"
    },
    "language_info": {
      "name": "python"
    }
  },
  "cells": [
    {
      "cell_type": "code",
      "source": [
        "# 1. What are the five key concepts of Object-Oriented Programming (OOP)?"
      ],
      "metadata": {
        "id": "tmxHxcnwjIFi"
      },
      "execution_count": null,
      "outputs": []
    },
    {
      "cell_type": "markdown",
      "source": [
        "# The five key concepts of Object-Oriented Programming (OOP) are:\n",
        "\n",
        "##1 Encapsulation:\n",
        "\n",
        "## Encapsulation refers to bundling data (attributes) and methods (functions) that operate on the data into a single unit, or class. This helps to protect the internal state of an object by restricting direct access to it and only allowing modification through well-defined methods. It promotes data hiding and ensures that objects' states are safe from unwanted changes.\n",
        "\n",
        "##2 Abstraction:\n",
        "\n",
        "## Abstraction involves hiding the complex implementation details of a system and exposing only the essential features. This simplifies interaction with objects by focusing on what an object does, rather than how it does it. Abstraction helps in reducing complexity and improving code maintainability by exposing only relevant information to the outside world.\n",
        "\n",
        "##3 Inheritance:\n",
        "\n",
        "## Inheritance allows a class to inherit properties and behaviors (methods) from another class. The class that is inherited from is called the parent or superclass, and the class that inherits is called the child or subclass. This promotes code reuse and establishes a relationship between different classes, allowing for hierarchical classifications.\n",
        "\n",
        "## 4 Polymorphism:\n",
        "\n",
        "## Polymorphism enables a single method or function to operate on objects of different classes. It allows objects of different types to be treated as objects of a common super type, typically through method overriding or method overloading. This makes code more flexible and reusable, as the same function can perform different tasks based on the type of object it is operating on.\n",
        "\n",
        "## 5 Association:\n",
        "\n",
        "## Association defines the relationship between two or more objects. There are different types of association, such as:\n",
        "## One-to-one: A single object is associated with another single object.\n",
        "## One-to-many: One object is associated with many objects.\n"
      ],
      "metadata": {
        "id": "f4EIq0xFiboK"
      }
    },
    {
      "cell_type": "code",
      "execution_count": null,
      "metadata": {
        "id": "MAN5x8iliDEz"
      },
      "outputs": [],
      "source": [
        "# 2. Write a Python class for a `Car` with attributes for `make`, `model`, and `year`. Include a method to display\n",
        "# the car's information."
      ]
    },
    {
      "cell_type": "code",
      "source": [
        "class Car:\n",
        "   def __init__(self, make, model, year):\n",
        "        self.make = make\n",
        "        self.model = model\n",
        "        self.year = year\n",
        "   def display_info(self):\n",
        "        print(f\"Car Information: {self.year} {self.make} {self.model}\")"
      ],
      "metadata": {
        "id": "yaDb_FEZjn9A"
      },
      "execution_count": null,
      "outputs": []
    },
    {
      "cell_type": "code",
      "source": [
        "my_car = Car(\"Toyota\", \"Camry\", 2022)\n",
        "my_car.display_info()"
      ],
      "metadata": {
        "colab": {
          "base_uri": "https://localhost:8080/"
        },
        "id": "7oeG3NMzjwt4",
        "outputId": "8a9be2c3-1dd6-402e-fe21-49c30fb4ea66"
      },
      "execution_count": null,
      "outputs": [
        {
          "output_type": "stream",
          "name": "stdout",
          "text": [
            "Car Information: 2022 Toyota Camry\n"
          ]
        }
      ]
    },
    {
      "cell_type": "code",
      "source": [
        "my_car.make"
      ],
      "metadata": {
        "colab": {
          "base_uri": "https://localhost:8080/",
          "height": 36
        },
        "id": "sIdIMYNfj74S",
        "outputId": "cc22d522-9dbc-49b6-91b8-2f7dddc8edb4"
      },
      "execution_count": null,
      "outputs": [
        {
          "output_type": "execute_result",
          "data": {
            "text/plain": [
              "'Toyota'"
            ],
            "application/vnd.google.colaboratory.intrinsic+json": {
              "type": "string"
            }
          },
          "metadata": {},
          "execution_count": 7
        }
      ]
    },
    {
      "cell_type": "code",
      "source": [
        "# 3. Explain the difference between instance methods and class methods. Provide an example of each"
      ],
      "metadata": {
        "id": "5X5vkgEnkTJy"
      },
      "execution_count": null,
      "outputs": []
    },
    {
      "cell_type": "markdown",
      "source": [
        "# Instance Methods:\n",
        "## Definition: Instance methods are functions that are defined inside a class and operate on the instance (object) of that class.\n",
        "## Self Parameter: Instance methods take a self parameter, which refers to the instance of the class (i.e., the specific object).\n",
        "## Usage: They can access and modify the attributes of the instance.\n",
        "## Calling: Instance methods are called on an object of the class."
      ],
      "metadata": {
        "id": "G0GZadFpb_k9"
      }
    },
    {
      "cell_type": "code",
      "source": [
        "class Dog:\n",
        "    def __init__(self, name, age):\n",
        "        self.name = name\n",
        "        self.age = age\n",
        "\n",
        "    def bark(self):\n",
        "        return f\"{self.name} says woof\"\n",
        "\n",
        "my_dog = Dog(\"Buddy\", 3)\n",
        "print(my_dog.bark())"
      ],
      "metadata": {
        "colab": {
          "base_uri": "https://localhost:8080/"
        },
        "id": "LkpIs9B3b89V",
        "outputId": "04d33b80-e66c-4c91-ebfc-08716edebdcc"
      },
      "execution_count": null,
      "outputs": [
        {
          "output_type": "stream",
          "name": "stdout",
          "text": [
            "Buddy says woof!\n"
          ]
        }
      ]
    },
    {
      "cell_type": "markdown",
      "source": [
        "# Class Methods:\n",
        "## Definition: Class methods are functions that are defined inside a class, but they operate on the class itself, not on instances of the class.\n",
        "## cls Parameter: Class methods take a cls parameter, which refers to the class itself, not an instance.\n",
        "## Usage: They can access and modify class-level attributes, but not instance-level attributes directly.\n",
        "## Calling: Class methods are called on the class itself, not on instances of the class.\n",
        "## Decorator: Class methods are defined using the @classmethod decorator."
      ],
      "metadata": {
        "id": "FHp_jq-gcjFN"
      }
    },
    {
      "cell_type": "code",
      "source": [
        "class Dog:\n",
        "    species = \"Canis familiaris\"\n",
        "\n",
        "    def __init__(self, name, age):\n",
        "        self.name = name\n",
        "        self.age = age\n",
        "\n",
        "    @classmethod\n",
        "    def get_species(cls):\n",
        "        return cls.species\n",
        "\n",
        "print(Dog.get_species())"
      ],
      "metadata": {
        "colab": {
          "base_uri": "https://localhost:8080/"
        },
        "id": "4bJrGaXdcQoE",
        "outputId": "0e5bdf3f-ef01-44f5-adc5-5bc35e74bc96"
      },
      "execution_count": null,
      "outputs": [
        {
          "output_type": "stream",
          "name": "stdout",
          "text": [
            "Canis familiaris\n"
          ]
        }
      ]
    },
    {
      "cell_type": "code",
      "source": [
        "# Q4 How does Python implement method overloading? Give an example."
      ],
      "metadata": {
        "id": "YA0M4g1Acy99"
      },
      "execution_count": null,
      "outputs": []
    },
    {
      "cell_type": "markdown",
      "source": [
        "\n",
        "## In Python, method overloading, as seen in languages like Java or C++, is not directly supported in the same way. Python allows only one method with a given name in a class. However, Python can mimic method overloading behavior through the use of default arguments, variable-length arguments, or by explicitly checking the types and number of arguments passed to a method."
      ],
      "metadata": {
        "id": "o2uz_3ZidMSX"
      }
    },
    {
      "cell_type": "code",
      "source": [
        "class Example:\n",
        "    def add(self, *args):\n",
        "        return sum(args)\n",
        "obj = Example()\n",
        "print(obj.add(2, 3))\n",
        "print(obj.add(1, 2, 3, 4, 5))"
      ],
      "metadata": {
        "colab": {
          "base_uri": "https://localhost:8080/"
        },
        "id": "-aAP-PJDdZ6X",
        "outputId": "2133b6c7-155c-48e5-e320-bda133120589"
      },
      "execution_count": null,
      "outputs": [
        {
          "output_type": "stream",
          "name": "stdout",
          "text": [
            "5\n",
            "15\n"
          ]
        }
      ]
    },
    {
      "cell_type": "code",
      "source": [
        "# 5. What are the three types of access modifiers in Python? How are they denoted?"
      ],
      "metadata": {
        "id": "9UzsFqe6de5o"
      },
      "execution_count": null,
      "outputs": []
    },
    {
      "cell_type": "markdown",
      "source": [
        "# Public:\n",
        "\n",
        "## Denotation: No underscore before the name.\n",
        "## Explanation: Public members are accessible from anywhere, both inside and outside the class. They can be accessed freely by objects and other classes."
      ],
      "metadata": {
        "id": "6ho2N1UIiJu-"
      }
    },
    {
      "cell_type": "code",
      "source": [
        "class MyClass:\n",
        "    def __init__(self):\n",
        "        self.public_attr = 10\n",
        "\n",
        "obj = MyClass()\n",
        "print(obj.public_attr)\n"
      ],
      "metadata": {
        "colab": {
          "base_uri": "https://localhost:8080/"
        },
        "id": "00yabqkbgqda",
        "outputId": "2fd94338-291a-4a96-e831-1c9a84a020a7"
      },
      "execution_count": null,
      "outputs": [
        {
          "output_type": "stream",
          "name": "stdout",
          "text": [
            "10\n"
          ]
        }
      ]
    },
    {
      "cell_type": "markdown",
      "source": [
        "# Protected:\n",
        "\n",
        "## Denotation: A single underscore _ before the name\n",
        "## Explanation: Protected members are intended to be accessible only within the class and its subclasses (child classes). This is more of a convention rather than a strict rule, as the protected members are still accessible from outside the class, but it's considered best practice to avoid accessing them directly."
      ],
      "metadata": {
        "id": "Plyjkhd_ir6x"
      }
    },
    {
      "cell_type": "code",
      "source": [
        "class MyClass:\n",
        "    def __init__(self):\n",
        "        self._protected_attr = 20\n",
        "\n",
        "obj = MyClass()\n",
        "print(obj._protected_attr)\n"
      ],
      "metadata": {
        "colab": {
          "base_uri": "https://localhost:8080/"
        },
        "id": "IXYLY9DUgqPP",
        "outputId": "b6295604-5d06-4ef8-9d8f-435d11bb4604"
      },
      "execution_count": null,
      "outputs": [
        {
          "output_type": "stream",
          "name": "stdout",
          "text": [
            "20\n"
          ]
        }
      ]
    },
    {
      "cell_type": "markdown",
      "source": [
        "# Private:\n",
        "\n",
        "## Denotation: A double underscore __ before the name (e.g., __private_attr).\n",
        "## Explanation: Private members are intended to be accessible only within the class itself. Python uses name mangling to make it harder to accidentally access or override private attributes from outside the class. It is not completely inaccessible but requires a special syntax to access."
      ],
      "metadata": {
        "id": "wXsVwQbei5RD"
      }
    },
    {
      "cell_type": "code",
      "source": [
        "class MyClass:\n",
        "    def __init__(self):\n",
        "        self.__private_attr = 30\n",
        "\n",
        "    def get_private(self):\n",
        "        return self.__private_attr\n",
        "\n",
        "obj = MyClass()\n",
        "print(obj.get_private())\n"
      ],
      "metadata": {
        "colab": {
          "base_uri": "https://localhost:8080/"
        },
        "id": "ElZm8Hq6gqM4",
        "outputId": "63640cfc-bc83-46f6-c403-1fb41f94d8b8"
      },
      "execution_count": null,
      "outputs": [
        {
          "output_type": "stream",
          "name": "stdout",
          "text": [
            "30\n"
          ]
        }
      ]
    },
    {
      "cell_type": "code",
      "source": [
        "# 6. Describe the five types of inheritance in Python. Provide a simple example of multiple inheritance"
      ],
      "metadata": {
        "id": "WoyU7nvfeH-j"
      },
      "execution_count": null,
      "outputs": []
    },
    {
      "cell_type": "markdown",
      "source": [
        "## In Python, inheritance is a mechanism that allows one class to inherit the attributes and methods from another class. There are five types of inheritance in Python:"
      ],
      "metadata": {
        "id": "9LQFaj6QeTvI"
      }
    },
    {
      "cell_type": "markdown",
      "source": [
        "# 1. Single Inheritance:\n",
        "## In single inheritance, a class inherits from only one parent class."
      ],
      "metadata": {
        "id": "-Z4gubTEea9p"
      }
    },
    {
      "cell_type": "code",
      "source": [
        "class Animal:\n",
        "    def speak(self):\n",
        "        print(\"Animal speaks\")\n",
        "class Dog(Animal):\n",
        "    def bark(self):\n",
        "        print(\"Dog barks\")"
      ],
      "metadata": {
        "id": "UMJi-Fp4eJ5z"
      },
      "execution_count": null,
      "outputs": []
    },
    {
      "cell_type": "code",
      "source": [
        "dog = Dog()\n",
        "dog.speak()\n",
        "dog.bark()"
      ],
      "metadata": {
        "colab": {
          "base_uri": "https://localhost:8080/"
        },
        "id": "3b4nnwzaeojU",
        "outputId": "38cab481-159e-4f3d-eed2-5f49c8227484"
      },
      "execution_count": null,
      "outputs": [
        {
          "output_type": "stream",
          "name": "stdout",
          "text": [
            "Animal speaks\n",
            "Dog barks\n"
          ]
        }
      ]
    },
    {
      "cell_type": "markdown",
      "source": [
        "# 2. Multiple Inheritance:\n",
        "## In multiple inheritance, a class inherits from more than one parent class."
      ],
      "metadata": {
        "id": "G_eJY77Vewnx"
      }
    },
    {
      "cell_type": "code",
      "source": [
        "class Animal:\n",
        "    def speak(self):\n",
        "        print(\"Animal speaks\")\n",
        "\n",
        "class Pet:\n",
        "    def play(self):\n",
        "        print(\"Pet plays\")\n",
        "\n",
        "class Dog(Animal, Pet):\n",
        "    def bark(self):\n",
        "        print(\"Dog barks\")"
      ],
      "metadata": {
        "id": "zzC7NUarepdo"
      },
      "execution_count": null,
      "outputs": []
    },
    {
      "cell_type": "code",
      "source": [
        "\n",
        "dog = Dog()\n",
        "dog.speak()\n",
        "dog.play()\n",
        "dog.bark()"
      ],
      "metadata": {
        "colab": {
          "base_uri": "https://localhost:8080/"
        },
        "id": "xp6N__iNe4kR",
        "outputId": "ed1d3f1c-cd64-4f9c-e596-7a770d2e3441"
      },
      "execution_count": null,
      "outputs": [
        {
          "output_type": "stream",
          "name": "stdout",
          "text": [
            "Animal speaks\n",
            "Pet plays\n",
            "Dog barks\n"
          ]
        }
      ]
    },
    {
      "cell_type": "markdown",
      "source": [
        "# 3. Multilevel Inheritance:\n",
        "## In multilevel inheritance, a class inherits from a class that is also derived from another class."
      ],
      "metadata": {
        "id": "MajbrDWtfHVa"
      }
    },
    {
      "cell_type": "code",
      "source": [
        "class Animal:\n",
        "    def speak(self):\n",
        "        print(\"Animal speaks\")\n",
        "\n",
        "class Mammal(Animal):\n",
        "    def walk(self):\n",
        "        print(\"Mammal walks\")\n",
        "\n",
        "class Dog(Mammal):\n",
        "    def bark(self):\n",
        "        print(\"Dog barks\")"
      ],
      "metadata": {
        "id": "bIeddXcefHGM"
      },
      "execution_count": null,
      "outputs": []
    },
    {
      "cell_type": "code",
      "source": [
        "\n",
        "dog = Dog()\n",
        "dog.speak()\n",
        "dog.walk()\n",
        "dog.bark()"
      ],
      "metadata": {
        "colab": {
          "base_uri": "https://localhost:8080/"
        },
        "id": "L4z4HsFcfD9i",
        "outputId": "5eb54478-2698-4e84-9d53-ddc2bc472472"
      },
      "execution_count": null,
      "outputs": [
        {
          "output_type": "stream",
          "name": "stdout",
          "text": [
            "Animal speaks\n",
            "Mammal walks\n",
            "Dog barks\n"
          ]
        }
      ]
    },
    {
      "cell_type": "markdown",
      "source": [
        "# 4 Hierarchical Inheritance:\n",
        "## In hierarchical inheritance, multiple classes inherit from a single parent class."
      ],
      "metadata": {
        "id": "G0svuc73fe_Z"
      }
    },
    {
      "cell_type": "code",
      "source": [
        "class Animal:\n",
        "    def speak(self):\n",
        "        print(\"Animal speaks\")\n",
        "\n",
        "class Dog(Animal):\n",
        "    def bark(self):\n",
        "        print(\"Dog barks\")\n",
        "\n",
        "class Cat(Animal):\n",
        "    def meow(self):\n",
        "        print(\"Cat meows\")\n",
        "\n",
        "dog = Dog()\n",
        "dog.speak()\n",
        "dog.bark()\n",
        "\n",
        "cat = Cat()\n",
        "cat.speak()\n",
        "cat.meow()"
      ],
      "metadata": {
        "colab": {
          "base_uri": "https://localhost:8080/"
        },
        "id": "ASUNgmkqfewR",
        "outputId": "07a2fe78-2c6e-4800-93b5-4c40510f4d4d"
      },
      "execution_count": null,
      "outputs": [
        {
          "output_type": "stream",
          "name": "stdout",
          "text": [
            "Animal speaks\n",
            "Dog barks\n",
            "Animal speaks\n",
            "Cat meows\n"
          ]
        }
      ]
    },
    {
      "cell_type": "markdown",
      "source": [
        "# 5. Hybrid Inheritance:\n",
        "## Hybrid inheritance is a combination of more than one type of inheritance. It may involve single, multiple, or multilevel inheritance within the same program."
      ],
      "metadata": {
        "id": "d7FnAyNYfx4L"
      }
    },
    {
      "cell_type": "code",
      "source": [
        "class Animal:\n",
        "    def speak(self):\n",
        "        print(\"Animal speaks\")\n",
        "\n",
        "class Pet:\n",
        "    def play(self):\n",
        "        print(\"Pet plays\")\n",
        "\n",
        "class Mammal(Animal):\n",
        "    def walk(self):\n",
        "        print(\"Mammal walks\")\n",
        "\n",
        "class Dog(Mammal, Pet):\n",
        "    def bark(self):\n",
        "        print(\"Dog barks\")\n",
        "\n",
        "dog = Dog()\n",
        "dog.speak()\n",
        "dog.walk()\n",
        "dog.play()\n",
        "dog.bark()"
      ],
      "metadata": {
        "colab": {
          "base_uri": "https://localhost:8080/"
        },
        "id": "DM-modSMfW1A",
        "outputId": "ad9a0033-0ed4-4abd-c73c-ea8052800eac"
      },
      "execution_count": null,
      "outputs": [
        {
          "output_type": "stream",
          "name": "stdout",
          "text": [
            "Animal speaks\n",
            "Mammal walks\n",
            "Pet plays\n",
            "Dog barks\n"
          ]
        }
      ]
    },
    {
      "cell_type": "code",
      "source": [
        "# 7. What is the Method Resolution Order (MRO) in Python? How can you retrieve it programmatically?"
      ],
      "metadata": {
        "id": "dOLy3vbYgEhn"
      },
      "execution_count": null,
      "outputs": []
    },
    {
      "cell_type": "markdown",
      "source": [
        "## In Python, Method Resolution Order (MRO) defines the order in which classes are inherited from when searching for a method or attribute. This is particularly important in cases of multiple inheritance, where a class can inherit from more than one base class. Python uses the C3 Linearization algorithm (also known as C3 superclass linearization) to determine the MRO.\n",
        "\n",
        "## The MRO is used to ensure a consistent and predictable method search order. When a method is called on an object, Python looks for it in the classes that are part of the object's inheritance chain, following the MRO. The MRO ensures that classes are visited in a specific order, which avoids ambiguity and ensures a consistent inheritance hierarchy.\n",
        "\n"
      ],
      "metadata": {
        "id": "OkBnbEo7xtba"
      }
    },
    {
      "cell_type": "code",
      "source": [
        "class A:\n",
        "    def method(self):\n",
        "        print(\"Method in class A\")\n",
        "\n",
        "class B(A):\n",
        "    def method(self):\n",
        "        print(\"Method in class B\")\n",
        "\n",
        "class C(A):\n",
        "    def method(self):\n",
        "        print(\"Method in class C\")\n",
        "\n",
        "class D(B, C):\n",
        "    pass\n"
      ],
      "metadata": {
        "id": "-0zd_CvgxtMo"
      },
      "execution_count": null,
      "outputs": []
    },
    {
      "cell_type": "code",
      "source": [
        "a= D()\n",
        "a.method()"
      ],
      "metadata": {
        "colab": {
          "base_uri": "https://localhost:8080/"
        },
        "id": "-JVF-qF8yH3c",
        "outputId": "dae28f05-9f6e-4cc5-8f96-cb275f0e2a07"
      },
      "execution_count": null,
      "outputs": [
        {
          "output_type": "stream",
          "name": "stdout",
          "text": [
            "Method in class B\n"
          ]
        }
      ]
    },
    {
      "cell_type": "code",
      "source": [
        "print(D.mro())\n"
      ],
      "metadata": {
        "colab": {
          "base_uri": "https://localhost:8080/"
        },
        "id": "MhIPJ1vtxtJ_",
        "outputId": "e7a71e2f-4ea7-42be-ae5a-aaf6787d64f3"
      },
      "execution_count": null,
      "outputs": [
        {
          "output_type": "stream",
          "name": "stdout",
          "text": [
            "[<class '__main__.D'>, <class '__main__.B'>, <class '__main__.C'>, <class '__main__.A'>, <class 'object'>]\n"
          ]
        }
      ]
    },
    {
      "cell_type": "code",
      "source": [
        "# 8. Create an abstract base class `Shape` with an abstract method `area()`. Then create two subclasses\n",
        "# `Circle` and `Rectangle` that implement the `area()` method."
      ],
      "metadata": {
        "id": "y6rvYNVmjtcd"
      },
      "execution_count": null,
      "outputs": []
    },
    {
      "cell_type": "code",
      "source": [
        "from abc import ABC\n",
        "\n",
        "\n",
        "# Abstract base class Shape\n",
        "class Shape(ABC):\n",
        "\n",
        "    @abstractmethod\n",
        "    def area(self):\n",
        "        pass\n",
        "\n",
        "# Subclass Circle\n",
        "class Circle(Shape):\n",
        "    def __init__(self, radius):\n",
        "        self.radius = radius\n",
        "\n",
        "    def area(self):\n",
        "        return math.pi * (self.radius ** 2)\n",
        "\n",
        "# Subclass Rectangle\n",
        "class Rectangle(Shape):\n",
        "    def __init__(self, width, height):\n",
        "        self.width = width\n",
        "        self.height = height\n",
        "\n",
        "    def area(self):\n",
        "        return self.width * self.height\n",
        "\n",
        "\n",
        "circle = Circle(5)\n",
        "rectangle = Rectangle(4, 6)\n",
        "\n",
        "print(f\"Area of Circle: {circle.area()}\")\n",
        "print(f\"Area of Rectangle: {rectangle.area()}\")\n"
      ],
      "metadata": {
        "colab": {
          "base_uri": "https://localhost:8080/"
        },
        "id": "rkVM4T-DkEhv",
        "outputId": "3487efd3-52b6-4443-df44-cef4f44a43e7"
      },
      "execution_count": null,
      "outputs": [
        {
          "output_type": "stream",
          "name": "stdout",
          "text": [
            "Area of Circle: 78.53981633974483\n",
            "Area of Rectangle: 24\n"
          ]
        }
      ]
    },
    {
      "cell_type": "code",
      "source": [
        "# 9. Demonstrate polymorphism by creating a function that can work with different shape objects to calculate\n",
        "# and print their areas."
      ],
      "metadata": {
        "id": "lxkkEMR1kPv-"
      },
      "execution_count": null,
      "outputs": []
    },
    {
      "cell_type": "code",
      "source": [
        "from abc import ABC\n",
        "\n",
        "class Shape(ABC):\n",
        "\n",
        "    @abstractmethod\n",
        "    def area(self):\n",
        "        pass\n",
        "\n",
        "# Subclass Circle\n",
        "class Circle(Shape):\n",
        "    def __init__(self, radius):\n",
        "        self.radius = radius\n",
        "\n",
        "    def area(self):\n",
        "        return math.pi * (self.radius ** 2)\n",
        "\n",
        "# Subclass Rectangle\n",
        "class Rectangle(Shape):\n",
        "    def __init__(self, width, height):\n",
        "        self.width = width\n",
        "        self.height = height\n",
        "\n",
        "    def area(self):\n",
        "        return self.width * self.height\n",
        "\n",
        "# Function that demonstrates polymorphism\n",
        "def print_area(shape: Shape):\n",
        "    print(f\"Area of the shape: {shape.area()}\")\n",
        "\n",
        "\n",
        "circle = Circle(5)\n",
        "rectangle = Rectangle(4, 6)\n",
        "\n",
        "# Demonstrating polymorphism\n",
        "print_area(circle)\n",
        "print_area(rectangle)\n"
      ],
      "metadata": {
        "colab": {
          "base_uri": "https://localhost:8080/"
        },
        "id": "1FC2IqA2lBbK",
        "outputId": "7257ea00-2ae3-4d7a-f285-3aeaab98943d"
      },
      "execution_count": null,
      "outputs": [
        {
          "output_type": "stream",
          "name": "stdout",
          "text": [
            "Area of the shape: 78.53981633974483\n",
            "Area of the shape: 24\n"
          ]
        }
      ]
    },
    {
      "cell_type": "code",
      "source": [
        "# 10. Implement encapsulation in a `BankAccount` class with private attributes for `balance` and\n",
        "# `account_number`. Include methods for deposit, withdrawal, and balance inquiry."
      ],
      "metadata": {
        "id": "ECNI0As3lF_q"
      },
      "execution_count": null,
      "outputs": []
    },
    {
      "cell_type": "code",
      "source": [
        "class bank:\n",
        "  def __init__(self,balance):\n",
        "    self.__balance = balance\n",
        "  def deposit(self,amount):\n",
        "    self.__balance = self.__balance+amount\n",
        "  def withdraw(self,amount):\n",
        "    if self.__balance >=amount:\n",
        "      self.__balance = self.__balance - amount\n",
        "      return (\"you are withdrawing\",amount)\n",
        "    else:\n",
        "        return (\"insufficient balance\")\n",
        "\n",
        "  def get_blance(self) :\n",
        "    return self.__balance\n"
      ],
      "metadata": {
        "id": "bRysJ2opc2D8"
      },
      "execution_count": null,
      "outputs": []
    },
    {
      "cell_type": "code",
      "source": [
        "ac1 = bank(5000)"
      ],
      "metadata": {
        "id": "diAo1Ogrd-Pt"
      },
      "execution_count": null,
      "outputs": []
    },
    {
      "cell_type": "code",
      "source": [
        "ac1.get_blance()\n"
      ],
      "metadata": {
        "colab": {
          "base_uri": "https://localhost:8080/"
        },
        "id": "bgzAx7jYeClV",
        "outputId": "4b2876dc-4ced-4875-de9c-de735aaa10bf"
      },
      "execution_count": null,
      "outputs": [
        {
          "output_type": "execute_result",
          "data": {
            "text/plain": [
              "5000"
            ]
          },
          "metadata": {},
          "execution_count": 47
        }
      ]
    },
    {
      "cell_type": "code",
      "source": [
        "ac1.deposit(1000)"
      ],
      "metadata": {
        "id": "LZkFAK5VeFww"
      },
      "execution_count": null,
      "outputs": []
    },
    {
      "cell_type": "code",
      "source": [
        "ac1.get_blance()"
      ],
      "metadata": {
        "colab": {
          "base_uri": "https://localhost:8080/"
        },
        "id": "92cK7qYeei0T",
        "outputId": "df7532e8-0d24-4c29-b113-b0cf5eb07f82"
      },
      "execution_count": null,
      "outputs": [
        {
          "output_type": "execute_result",
          "data": {
            "text/plain": [
              "6000"
            ]
          },
          "metadata": {},
          "execution_count": 49
        }
      ]
    },
    {
      "cell_type": "code",
      "source": [
        "ac1.withdraw(100)"
      ],
      "metadata": {
        "colab": {
          "base_uri": "https://localhost:8080/"
        },
        "id": "rCGvl86tf5Ja",
        "outputId": "0d407592-f97d-46e9-b243-74fd45cd0413"
      },
      "execution_count": null,
      "outputs": [
        {
          "output_type": "execute_result",
          "data": {
            "text/plain": [
              "('you withdrawing', 100)"
            ]
          },
          "metadata": {},
          "execution_count": 52
        }
      ]
    },
    {
      "cell_type": "code",
      "source": [
        "ac1.get_blance()"
      ],
      "metadata": {
        "colab": {
          "base_uri": "https://localhost:8080/"
        },
        "id": "Y62ourpOf7J7",
        "outputId": "0260faba-df48-443d-e446-603649b9acae"
      },
      "execution_count": null,
      "outputs": [
        {
          "output_type": "execute_result",
          "data": {
            "text/plain": [
              "5900"
            ]
          },
          "metadata": {},
          "execution_count": 25
        }
      ]
    },
    {
      "cell_type": "code",
      "source": [
        "# 11. Write a class that overrides the `__str__` and `__add__` magic methods. What will these methods allow\n",
        "# you to do?"
      ],
      "metadata": {
        "id": "JiJQsK1yf82z"
      },
      "execution_count": null,
      "outputs": []
    },
    {
      "cell_type": "code",
      "source": [
        "class CustomObject:\n",
        "    def __init__(self, value):\n",
        "        self.value = value\n",
        "\n",
        "    # Overriding __str__ method\n",
        "    def __str__(self):\n",
        "        return f\"CustomObject with value: {self.value}\"\n",
        "\n",
        "    # Overriding __add__ method\n",
        "    def __add__(self, other):\n",
        "        if isinstance(other, CustomObject):\n",
        "            # Add the values of the two objects\n",
        "            return CustomObject(self.value + other.value)\n",
        "        else:\n",
        "            raise TypeError(\"Cannot add CustomObject with non-CustomObject\")\n",
        "\n",
        "\n",
        "obj1 = CustomObject(10)\n",
        "obj2 = CustomObject(20)\n",
        "\n",
        "# Using __str__ to print the object\n",
        "print(obj1)\n",
        "\n",
        "# Using __add__ to add two objects\n",
        "obj3 = obj1 + obj2\n",
        "print(obj3)\n"
      ],
      "metadata": {
        "colab": {
          "base_uri": "https://localhost:8080/"
        },
        "id": "hsojKNEgJf_K",
        "outputId": "515c3e2e-814d-4492-a7aa-1e485d0fb43d"
      },
      "execution_count": 1,
      "outputs": [
        {
          "output_type": "stream",
          "name": "stdout",
          "text": [
            "CustomObject with value: 10\n",
            "CustomObject with value: 30\n"
          ]
        }
      ]
    },
    {
      "cell_type": "code",
      "source": [
        "# 12. Create a decorator that measures and prints the execution time of a function."
      ],
      "metadata": {
        "id": "9o_urwakJ30X"
      },
      "execution_count": null,
      "outputs": []
    },
    {
      "cell_type": "code",
      "source": [
        "import time\n",
        "\n",
        "# Decorator to measure and print execution time\n",
        "def measure_execution_time(func):\n",
        "    def wrapper(*args, **kwargs):\n",
        "        start_time = time.time()  # Record start time\n",
        "        result = func(*args, **kwargs)  # Call the original function\n",
        "        end_time = time.time()  # Record end time\n",
        "        execution_time = end_time - start_time  # Calculate execution time\n",
        "        print(f\"Execution time of {func.__name__}: {execution_time:.6f} seconds\")\n",
        "        return result\n",
        "    return wrapper\n",
        "\n",
        "# Example function using the decorator\n",
        "@measure_execution_time\n",
        "def some_function():\n",
        "    time.sleep(2)  # Simulate a delay of 2 seconds\n",
        "\n",
        "# Calling the decorated function\n",
        "some_function()\n"
      ],
      "metadata": {
        "id": "qppti3KPJf8N"
      },
      "execution_count": null,
      "outputs": []
    },
    {
      "cell_type": "code",
      "source": [
        "# 13. Explain the concept of the Diamond Problem in multiple inheritance. How does Python resolve it?"
      ],
      "metadata": {
        "id": "-m11SybHKg25"
      },
      "execution_count": null,
      "outputs": []
    },
    {
      "cell_type": "markdown",
      "source": [
        "\n",
        "## The Diamond Problem is an issue that arises in object-oriented programming (OOP) when using multiple inheritance. It occurs when a class inherits from two classes that have a common base class, leading to ambiguity about which version of the common base class methods should be called."
      ],
      "metadata": {
        "id": "0RV1VVTgKe5G"
      }
    },
    {
      "cell_type": "code",
      "source": [
        "class A:\n",
        "    def hello(self):\n",
        "        print(\"Hello from A\")\n",
        "\n",
        "class B(A):\n",
        "    def hello(self):\n",
        "        print(\"Hello from B\")\n",
        "\n",
        "class C(A):\n",
        "    def hello(self):\n",
        "        print(\"Hello from C\")\n",
        "\n",
        "class D(B, C):\n",
        "    pass\n",
        "\n",
        "# Create an instance of D\n",
        "d = D()\n",
        "d.hello()\n"
      ],
      "metadata": {
        "colab": {
          "base_uri": "https://localhost:8080/"
        },
        "id": "xZPztGibKdvG",
        "outputId": "aa15dc3c-f36e-4ae4-b0c0-a2a2328a49e3"
      },
      "execution_count": 2,
      "outputs": [
        {
          "output_type": "stream",
          "name": "stdout",
          "text": [
            "Hello from B\n"
          ]
        }
      ]
    },
    {
      "cell_type": "code",
      "source": [
        "# 14. Write a class method that keeps track of the number of instances created from a class"
      ],
      "metadata": {
        "id": "x8AiQ7_2Ko_2"
      },
      "execution_count": null,
      "outputs": []
    },
    {
      "cell_type": "code",
      "source": [
        "class MyClass:\n",
        "\n",
        "    instance_count = 0\n",
        "\n",
        "    def __init__(self):\n",
        "        # Increment the instance count whenever a new object is created\n",
        "        MyClass.instance_count += 1\n",
        "\n",
        "    @classmethod\n",
        "    def get_instance_count(cls):\n",
        "        # Class method to return the number of instances\n",
        "        return cls.instance_count\n",
        "\n",
        "\n",
        "# Create instances of MyClass\n",
        "obj1 = MyClass()\n",
        "obj2 = MyClass()\n",
        "obj3 = MyClass()\n",
        "\n",
        "# Access the class method to get the instance count\n",
        "print(MyClass.get_instance_count())\n"
      ],
      "metadata": {
        "colab": {
          "base_uri": "https://localhost:8080/"
        },
        "id": "wxPGodEpKzxc",
        "outputId": "ff2c55b3-673f-41e8-8a86-33db89a2a577"
      },
      "execution_count": 3,
      "outputs": [
        {
          "output_type": "stream",
          "name": "stdout",
          "text": [
            "3\n"
          ]
        }
      ]
    },
    {
      "cell_type": "code",
      "source": [
        "# 15. Implement a static method in a class that checks if a given year is a leap year."
      ],
      "metadata": {
        "id": "_bGjMqrQK5HQ"
      },
      "execution_count": null,
      "outputs": []
    },
    {
      "cell_type": "code",
      "source": [
        "class YearUtils:\n",
        "    @staticmethod\n",
        "    def is_leap_year(year):\n",
        "        # Check if the year is divisible by 4, and handle special cases for 100 and 400\n",
        "        if (year % 4 == 0 and year % 100 != 0) or (year % 400 == 0):\n",
        "            return True\n",
        "        else:\n",
        "            return False\n",
        "\n",
        "year = 2024\n",
        "if YearUtils.is_leap_year(year):\n",
        "    print(f\"{year} is a leap year.\")\n",
        "else:\n",
        "    print(f\"{year} is not a leap year.\")\n"
      ],
      "metadata": {
        "colab": {
          "base_uri": "https://localhost:8080/"
        },
        "id": "iiV8bO5wLMt0",
        "outputId": "3e1bfc97-ba2f-4f18-d62e-ecb8dc1e750d"
      },
      "execution_count": 4,
      "outputs": [
        {
          "output_type": "stream",
          "name": "stdout",
          "text": [
            "2024 is a leap year.\n"
          ]
        }
      ]
    },
    {
      "cell_type": "code",
      "source": [],
      "metadata": {
        "id": "28dH7bapLOTX"
      },
      "execution_count": null,
      "outputs": []
    }
  ]
}